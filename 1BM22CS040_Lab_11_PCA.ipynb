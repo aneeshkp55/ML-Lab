{
  "nbformat": 4,
  "nbformat_minor": 0,
  "metadata": {
    "colab": {
      "provenance": []
    },
    "kernelspec": {
      "name": "python3",
      "display_name": "Python 3"
    },
    "language_info": {
      "name": "python"
    }
  },
  "cells": [
    {
      "cell_type": "code",
      "execution_count": 1,
      "metadata": {
        "colab": {
          "base_uri": "https://localhost:8080/"
        },
        "id": "Nv80E1GxzAaw",
        "outputId": "2a98d169-b19d-45e4-9693-f986c89d9f5a"
      },
      "outputs": [
        {
          "output_type": "stream",
          "name": "stdout",
          "text": [
            "Accuracy Score using PCA (2 components): 0.5167\n"
          ]
        }
      ],
      "source": [
        "import numpy as np\n",
        "from sklearn.decomposition import PCA\n",
        "from sklearn.datasets import load_digits\n",
        "from sklearn.model_selection import train_test_split\n",
        "from sklearn.preprocessing import StandardScaler\n",
        "from sklearn.linear_model import LogisticRegression\n",
        "from sklearn.metrics import accuracy_score\n",
        "\n",
        "# Step 1: Load the digits dataset\n",
        "digits = load_digits()\n",
        "X = digits.data\n",
        "y = digits.target\n",
        "\n",
        "# Step 2: Split the data into training and testing sets (80% training, 20% testing)\n",
        "X_train, X_test, y_train, y_test = train_test_split(X, y, test_size=0.2, random_state=42)\n",
        "\n",
        "# Step 3: Perform scaling (standardize the data)\n",
        "scaler = StandardScaler()\n",
        "X_train_scaled = scaler.fit_transform(X_train)\n",
        "X_test_scaled = scaler.transform(X_test)\n",
        "\n",
        "# Step 4: Build a PCA model with 2 components\n",
        "pca = PCA(n_components=2)\n",
        "\n",
        "# Step 5: Fit PCA on the scaled training data and transform the data\n",
        "X_train_pca = pca.fit_transform(X_train_scaled)\n",
        "X_test_pca = pca.transform(X_test_scaled)\n",
        "\n",
        "# Step 6: Train a Logistic Regression model using the transformed data\n",
        "log_reg = LogisticRegression(max_iter=10000)\n",
        "log_reg.fit(X_train_pca, y_train)\n",
        "\n",
        "# Step 7: Predict on the test data\n",
        "y_pred = log_reg.predict(X_test_pca)\n",
        "\n",
        "# Step 8: Calculate and print the accuracy score\n",
        "accuracy = accuracy_score(y_test, y_pred)\n",
        "print(f\"Accuracy Score using PCA (2 components): {accuracy:.4f}\")\n"
      ]
    },
    {
      "cell_type": "code",
      "source": [
        "import pandas as pd\n",
        "import numpy as np\n",
        "from scipy import stats\n",
        "from sklearn.preprocessing import LabelEncoder, StandardScaler, OneHotEncoder\n",
        "from sklearn.compose import ColumnTransformer\n",
        "from sklearn.model_selection import train_test_split\n",
        "from sklearn.svm import SVC\n",
        "from sklearn.linear_model import LogisticRegression\n",
        "from sklearn.ensemble import RandomForestClassifier\n",
        "from sklearn.metrics import accuracy_score\n",
        "from sklearn.decomposition import PCA\n",
        "from sklearn.pipeline import Pipeline\n",
        "\n",
        "# Step 1: Load the dataset\n",
        "# Assuming the dataset is stored in 'heart.csv'\n",
        "df = pd.read_csv('heart(1).csv')\n",
        "\n",
        "# Step 2: Remove outliers using Z-score\n",
        "numeric_cols = ['Age', 'RestingBP', 'Cholesterol', 'MaxHR', 'Oldpeak']\n",
        "z_scores = stats.zscore(df[numeric_cols])\n",
        "abs_z_scores = np.abs(z_scores)\n",
        "filtered_entries = (abs_z_scores < 3).all(axis=1)\n",
        "df_clean = df[filtered_entries].reset_index(drop=True)\n",
        "\n",
        "# Step 3: Encode categorical variables and apply scaling\n",
        "# Identify categorical and numerical columns\n",
        "categorical_cols = ['Sex', 'ChestPainType', 'RestingECG', 'ExerciseAngina', 'ST_Slope']\n",
        "numeric_cols = ['Age', 'RestingBP', 'Cholesterol', 'FastingBS', 'MaxHR', 'Oldpeak']\n",
        "\n",
        "# Create preprocessing steps\n",
        "preprocessor = ColumnTransformer(\n",
        "    transformers=[\n",
        "        ('cat', OneHotEncoder(drop='first', sparse_output=False), categorical_cols),\n",
        "        ('num', StandardScaler(), numeric_cols)\n",
        "    ])\n",
        "\n",
        "# Apply preprocessing\n",
        "X = df_clean.drop('HeartDisease', axis=1)\n",
        "y = df_clean['HeartDisease']\n",
        "X_processed = preprocessor.fit_transform(X)\n",
        "\n",
        "# Get feature names after one-hot encoding\n",
        "cat_encoded_cols = preprocessor.named_transformers_['cat'].get_feature_names_out(categorical_cols)\n",
        "feature_names = list(cat_encoded_cols) + numeric_cols\n",
        "\n",
        "# Convert processed features back to DataFrame for clarity\n",
        "X_processed_df = pd.DataFrame(X_processed, columns=feature_names)\n",
        "\n",
        "# Step 4: Build classification models and evaluate accuracy\n",
        "# Split data into training and testing sets\n",
        "X_train, X_test, y_train, y_test = train_test_split(X_processed_df, y, test_size=0.2, random_state=42)\n",
        "\n",
        "# Define models\n",
        "models = {\n",
        "    'SVM': SVC(kernel='rbf', random_state=42),\n",
        "    'Logistic Regression': LogisticRegression(max_iter=1000, random_state=42),\n",
        "    'Random Forest': RandomForestClassifier(n_estimators=100, random_state=42)\n",
        "}\n",
        "\n",
        "# Train and evaluate each model\n",
        "accuracies = {}\n",
        "for name, model in models.items():\n",
        "    model.fit(X_train, y_train)\n",
        "    y_pred = model.predict(X_test)\n",
        "    accuracy = accuracy_score(y_test, y_pred)\n",
        "    accuracies[name] = accuracy\n",
        "    print(f\"{name} Accuracy: {accuracy:.4f}\")\n",
        "\n",
        "# Find the best model\n",
        "best_model_name = max(accuracies, key=accuracies.get)\n",
        "print(f\"\\nBest Model: {best_model_name} with Accuracy: {accuracies[best_model_name]:.4f}\")\n",
        "\n",
        "# Step 5: Apply PCA and evaluate impact on model accuracy\n",
        "# Determine number of components to retain 95% variance\n",
        "pca = PCA()\n",
        "pca.fit(X_processed_df)\n",
        "cumulative_variance = np.cumsum(pca.explained_variance_ratio_)\n",
        "n_components = np.argmax(cumulative_variance >= 0.95) + 1\n",
        "print(f\"\\nNumber of PCA components to retain 95% variance: {n_components}\")\n",
        "\n",
        "# Create pipeline with PCA and the best model\n",
        "best_model = models[best_model_name]\n",
        "pipeline = Pipeline([\n",
        "    ('pca', PCA(n_components=n_components)),\n",
        "    ('classifier', best_model)\n",
        "])\n",
        "\n",
        "# Train and evaluate model with PCA\n",
        "pipeline.fit(X_train, y_train)\n",
        "y_pred_pca = pipeline.predict(X_test)\n",
        "accuracy_pca = accuracy_score(y_test, y_pred_pca)\n",
        "print(f\"{best_model_name} Accuracy with PCA: {accuracy_pca:.4f}\")\n",
        "print(f\"Accuracy Change with Impact: {accuracy_pca - accuracies[best_model_name]:.4f}\")\n",
        "\n",
        "# Save the processed dataset (optional)\n",
        "X_processed_df['HeartDisease'] = y\n",
        "X_processed_df.to_csv('processed_heart.csv', index=False)"
      ],
      "metadata": {
        "colab": {
          "base_uri": "https://localhost:8080/"
        },
        "id": "2zHilQ9_zBO3",
        "outputId": "40967bf9-08a2-4c50-99b4-fc68fd8d84a3"
      },
      "execution_count": 5,
      "outputs": [
        {
          "output_type": "stream",
          "name": "stdout",
          "text": [
            "SVM Accuracy: 0.8889\n",
            "Logistic Regression Accuracy: 0.8889\n",
            "Random Forest Accuracy: 0.8889\n",
            "\n",
            "Best Model: SVM with Accuracy: 0.8889\n",
            "\n",
            "Number of PCA components to retain 95% variance: 10\n",
            "SVM Accuracy with PCA: 0.8944\n",
            "Accuracy Change with Impact: 0.0056\n"
          ]
        }
      ]
    },
    {
      "cell_type": "code",
      "source": [],
      "metadata": {
        "id": "HznVAnh40i1J"
      },
      "execution_count": null,
      "outputs": []
    }
  ]
}